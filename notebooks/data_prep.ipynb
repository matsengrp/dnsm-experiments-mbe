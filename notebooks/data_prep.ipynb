{
 "cells": [
  {
   "cell_type": "code",
   "execution_count": 1,
   "metadata": {},
   "outputs": [],
   "source": [
    "import os \n",
    "\n",
    "import pandas as pd\n",
    "import numpy as np\n",
    "\n",
    "import pandas as pd\n",
    "from dnsmex.dxsm_data import localify\n",
    "from dnsmex.dxsm_data import dataset_dict, pcp_df_of_nickname"
   ]
  },
  {
   "cell_type": "code",
   "execution_count": 2,
   "metadata": {},
   "outputs": [],
   "source": [
    "def prep_data(path, export_filtered=False, export_germline=False, downsample=None, split_by_v=False):\n",
    "    \"\"\"\n",
    "    Given a path to a .csv.gz file, load it, filter it, and save it to a new file.\n",
    "\n",
    "    downsample is expressed in terms of thousands. \n",
    "    split_by_v will split the data by V family, and save each split to a separate file.\n",
    "    \"\"\"\n",
    "    pcp_df = pd.read_csv(path, index_col=0)\n",
    "    original_pcp_count = len(pcp_df)\n",
    "\n",
    "    # drop rows where either parent or child contains an N\n",
    "    pcp_df = pcp_df[~pcp_df[\"parent\"].str.contains(\"N\")]\n",
    "    pcp_df = pcp_df[~pcp_df[\"child\"].str.contains(\"N\")]\n",
    "    \n",
    "    # make sure that the parent and child sequences differ\n",
    "    pcp_df = pcp_df[pcp_df[\"parent\"] != pcp_df[\"child\"]]\n",
    "\n",
    "    # drow rows where pcp_df[\"parent_name\"] contains \"naive\"\n",
    "    pcp_df = pcp_df[~pcp_df[\"parent_is_naive\"]]\n",
    "\n",
    "    filtered_pcp_count = len(pcp_df)\n",
    "\n",
    "    # let path_without_suffix be path without .csv.gz\n",
    "    path_without_suffix = path[:-7]\n",
    "    if export_filtered:\n",
    "        pcp_df.to_csv(path_without_suffix + \"_noN_no-naive.csv.gz\")\n",
    "\n",
    "    germline_df = pcp_df[pcp_df[\"v_gene\"].str.contains(\"IGHV[34]\")]\n",
    "    germline_pcp_count = len(germline_df)\n",
    "\n",
    "    if export_germline:\n",
    "        germline_df.to_csv(path_without_suffix + \"_IGHV34_noN_no-naive.csv.gz\")\n",
    "        \n",
    "    # return a little dataframe with the counts\n",
    "    out_dict = pd.DataFrame({\n",
    "        \"original_pcp_count\": [original_pcp_count],\n",
    "        \"filtered_pcp_count\": [filtered_pcp_count],\n",
    "        \"germline_pcp_count\": [germline_pcp_count]\n",
    "    }, index=[os.path.basename(path)])\n",
    "\n",
    "    def downsample_df(df, downsample):\n",
    "        downsample_count = int(downsample * 1000)\n",
    "        if downsample_count > len(df):\n",
    "            return None\n",
    "        # take evenly spaced samples from the dataframe\n",
    "        return df.iloc[::len(df)//downsample_count].copy()\n",
    "\n",
    "    if downsample is not None:\n",
    "        downsampled_df = downsample_df(pcp_df, downsample)\n",
    "        downsampled_df.to_csv(path_without_suffix + f\"_downsample_{downsample}k.csv.gz\")\n",
    "    \n",
    "    if split_by_v:\n",
    "        pcp_df[\"v_family\"] = pcp_df[\"v_gene\"].str.split(\"-\").str[0]\n",
    "        for v_family in pcp_df[\"v_family\"].unique():\n",
    "            v_family_df = pcp_df[pcp_df[\"v_family\"] == v_family]\n",
    "            v_family_df.to_csv(path_without_suffix + f\"_{v_family}_noN_no-naive.csv.gz\") \n",
    "            if downsample is not None:\n",
    "                downsampled_v_family_df = downsample_df(v_family_df, downsample)\n",
    "                if downsampled_v_family_df is not None:\n",
    "                    downsampled_v_family_df.to_csv(path_without_suffix + f\"_{v_family}_downsample_{downsample}k.csv.gz\")\n",
    "    \n",
    "    return out_dict"
   ]
  },
  {
   "cell_type": "code",
   "execution_count": 3,
   "metadata": {},
   "outputs": [
    {
     "data": {
      "text/html": [
       "<div>\n",
       "<style scoped>\n",
       "    .dataframe tbody tr th:only-of-type {\n",
       "        vertical-align: middle;\n",
       "    }\n",
       "\n",
       "    .dataframe tbody tr th {\n",
       "        vertical-align: top;\n",
       "    }\n",
       "\n",
       "    .dataframe thead th {\n",
       "        text-align: right;\n",
       "    }\n",
       "</style>\n",
       "<table border=\"1\" class=\"dataframe\">\n",
       "  <thead>\n",
       "    <tr style=\"text-align: right;\">\n",
       "      <th></th>\n",
       "      <th>original_pcp_count</th>\n",
       "      <th>filtered_pcp_count</th>\n",
       "      <th>germline_pcp_count</th>\n",
       "    </tr>\n",
       "  </thead>\n",
       "  <tbody>\n",
       "    <tr>\n",
       "      <th>rodriguez-airr-seq-race-prod-InclMutInv_pcp_2024-11-12_MASKED_NI_noN_no-naive.csv.gz</th>\n",
       "      <td>21754</td>\n",
       "      <td>21754</td>\n",
       "      <td>15231</td>\n",
       "    </tr>\n",
       "  </tbody>\n",
       "</table>\n",
       "</div>"
      ],
      "text/plain": [
       "                                                    original_pcp_count  \\\n",
       "rodriguez-airr-seq-race-prod-InclMutInv_pcp_202...               21754   \n",
       "\n",
       "                                                    filtered_pcp_count  \\\n",
       "rodriguez-airr-seq-race-prod-InclMutInv_pcp_202...               21754   \n",
       "\n",
       "                                                    germline_pcp_count  \n",
       "rodriguez-airr-seq-race-prod-InclMutInv_pcp_202...               15231  "
      ]
     },
     "execution_count": 3,
     "metadata": {},
     "output_type": "execute_result"
    }
   ],
   "source": [
    "prep_data(localify(\"~/data/v1/rodriguez-airr-seq-race-prod-InclMutInv_pcp_2024-11-12_MASKED_NI_noN_no-naive.csv.gz\"), export_filtered=True, split_by_v=True)"
   ]
  },
  {
   "cell_type": "code",
   "execution_count": 4,
   "metadata": {},
   "outputs": [
    {
     "data": {
      "text/html": [
       "<div>\n",
       "<style scoped>\n",
       "    .dataframe tbody tr th:only-of-type {\n",
       "        vertical-align: middle;\n",
       "    }\n",
       "\n",
       "    .dataframe tbody tr th {\n",
       "        vertical-align: top;\n",
       "    }\n",
       "\n",
       "    .dataframe thead th {\n",
       "        text-align: right;\n",
       "    }\n",
       "</style>\n",
       "<table border=\"1\" class=\"dataframe\">\n",
       "  <thead>\n",
       "    <tr style=\"text-align: right;\">\n",
       "      <th></th>\n",
       "      <th>original_pcp_count</th>\n",
       "      <th>filtered_pcp_count</th>\n",
       "      <th>germline_pcp_count</th>\n",
       "    </tr>\n",
       "  </thead>\n",
       "  <tbody>\n",
       "    <tr>\n",
       "      <th>tang-deepshm-prod-InclMutInv_pcp_2024-10-29_MASKED_NI_noN_no-naive.csv.gz</th>\n",
       "      <td>522586</td>\n",
       "      <td>522586</td>\n",
       "      <td>397587</td>\n",
       "    </tr>\n",
       "  </tbody>\n",
       "</table>\n",
       "</div>"
      ],
      "text/plain": [
       "                                                    original_pcp_count  \\\n",
       "tang-deepshm-prod-InclMutInv_pcp_2024-10-29_MAS...              522586   \n",
       "\n",
       "                                                    filtered_pcp_count  \\\n",
       "tang-deepshm-prod-InclMutInv_pcp_2024-10-29_MAS...              522586   \n",
       "\n",
       "                                                    germline_pcp_count  \n",
       "tang-deepshm-prod-InclMutInv_pcp_2024-10-29_MAS...              397587  "
      ]
     },
     "execution_count": 4,
     "metadata": {},
     "output_type": "execute_result"
    }
   ],
   "source": [
    "prep_data(localify(\"~/data/v1/wyatt-10x-1p5m_fs-all_InclMutInv_pcp_2024-10-29_NI_noN_no-naive.csv.gz\"), downsample=50)\n",
    "prep_data(localify(\"~/data/v1/tang-deepshm-prod-InclMutInv_pcp_2024-10-29_MASKED_NI_noN_no-naive.csv.gz\"), downsample=50)\n",
    "\n",
    "# prep_data(localify(\"data/v1/wyatt-10x-1p5m_fs-all_pcp_2024-04-29_NI.csv.gz\"), split_by_v=True, downsample=5)\n",
    "# prep_data(localify(\"data/v1/tang-deepshm-prod_pcp_2024-04-01_MASKED_NI_noN_no-naive.csv.gz\"), downsample=50)\n",
    "# prep_data(localify(\"data/v0/wyatt-10x-1p5m_pcp_2023-11-30_NI.csv.gz\"), export_filtered=True)"
   ]
  },
  {
   "cell_type": "code",
   "execution_count": null,
   "metadata": {},
   "outputs": [],
   "source": []
  }
 ],
 "metadata": {
  "kernelspec": {
   "display_name": ".venv",
   "language": "python",
   "name": "python3"
  },
  "language_info": {
   "codemirror_mode": {
    "name": "ipython",
    "version": 3
   },
   "file_extension": ".py",
   "mimetype": "text/x-python",
   "name": "python",
   "nbconvert_exporter": "python",
   "pygments_lexer": "ipython3",
   "version": "3.11.9"
  }
 },
 "nbformat": 4,
 "nbformat_minor": 2
}
